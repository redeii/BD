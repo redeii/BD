{
 "cells": [
  {
   "cell_type": "code",
   "execution_count": 1,
   "metadata": {},
   "outputs": [],
   "source": [
    "import pandas as pd\n",
    "import numpy as np"
   ]
  },
  {
   "cell_type": "markdown",
   "metadata": {},
   "source": [
    "### Colocando os dados 'brutos' da nota"
   ]
  },
  {
   "cell_type": "code",
   "execution_count": 2,
   "metadata": {},
   "outputs": [],
   "source": [
    "Nota_fiscal = [1522,'exemplo de nome','endereco qualquer','cep','telefone','RJ',\n",
    "               10403272,1,399.00,47.88,0,0,399.00,'25/07/2002','','empresa_transportadora',\n",
    "               'peso_produto','venc_fatura','valordafatura','Doacao -658c8924 Josias Severino n 99137698 at. -rj 56450 cs -rj76047'\n",
    "              ]"
   ]
  },
  {
   "cell_type": "markdown",
   "metadata": {},
   "source": [
    "### Criando um modelo para armazenagem desses dados"
   ]
  },
  {
   "cell_type": "code",
   "execution_count": 3,
   "metadata": {},
   "outputs": [],
   "source": [
    "Nota_fiscal= np.array(Nota_fiscal).reshape(1,20)"
   ]
  },
  {
   "cell_type": "markdown",
   "metadata": {},
   "source": [
    "### Nome das colunas sao metadados"
   ]
  },
  {
   "cell_type": "code",
   "execution_count": 12,
   "metadata": {},
   "outputs": [],
   "source": [
    "df = pd.DataFrame(Nota_fiscal,columns=['Id','Destinatario','Endereco','CEP','Fone',\n",
    "                          'Uf','Codigo_produto','Qtd.','Valor unitario',\n",
    "                          'Impostos','Valor_frete','Seguro','Valor_total_nota',\n",
    "                          'Data_nota','data_saida','Transportador','Peso_transporte',\n",
    "                          'Venc_fatura','Valor_fatura','Informacoes complementares'])"
   ]
  },
  {
   "cell_type": "code",
   "execution_count": 14,
   "metadata": {},
   "outputs": [],
   "source": [
    "df.set_index('Id',drop=True,inplace=True)"
   ]
  },
  {
   "cell_type": "code",
   "execution_count": 15,
   "metadata": {
    "scrolled": true
   },
   "outputs": [
    {
     "data": {
      "text/html": [
       "<div>\n",
       "<style scoped>\n",
       "    .dataframe tbody tr th:only-of-type {\n",
       "        vertical-align: middle;\n",
       "    }\n",
       "\n",
       "    .dataframe tbody tr th {\n",
       "        vertical-align: top;\n",
       "    }\n",
       "\n",
       "    .dataframe thead th {\n",
       "        text-align: right;\n",
       "    }\n",
       "</style>\n",
       "<table border=\"1\" class=\"dataframe\">\n",
       "  <thead>\n",
       "    <tr style=\"text-align: right;\">\n",
       "      <th></th>\n",
       "      <th>Destinatario</th>\n",
       "      <th>Endereco</th>\n",
       "      <th>CEP</th>\n",
       "      <th>Fone</th>\n",
       "      <th>Uf</th>\n",
       "      <th>Codigo_produto</th>\n",
       "      <th>Qtd.</th>\n",
       "      <th>Valor unitario</th>\n",
       "      <th>Impostos</th>\n",
       "      <th>Valor_frete</th>\n",
       "      <th>Seguro</th>\n",
       "      <th>Valor_total_nota</th>\n",
       "      <th>Data_nota</th>\n",
       "      <th>data_saida</th>\n",
       "      <th>Transportador</th>\n",
       "      <th>Peso_transporte</th>\n",
       "      <th>Venc_fatura</th>\n",
       "      <th>Valor_fatura</th>\n",
       "      <th>Informacoes complementares</th>\n",
       "    </tr>\n",
       "    <tr>\n",
       "      <th>Id</th>\n",
       "      <th></th>\n",
       "      <th></th>\n",
       "      <th></th>\n",
       "      <th></th>\n",
       "      <th></th>\n",
       "      <th></th>\n",
       "      <th></th>\n",
       "      <th></th>\n",
       "      <th></th>\n",
       "      <th></th>\n",
       "      <th></th>\n",
       "      <th></th>\n",
       "      <th></th>\n",
       "      <th></th>\n",
       "      <th></th>\n",
       "      <th></th>\n",
       "      <th></th>\n",
       "      <th></th>\n",
       "      <th></th>\n",
       "    </tr>\n",
       "  </thead>\n",
       "  <tbody>\n",
       "    <tr>\n",
       "      <td>1522</td>\n",
       "      <td>exemplo de nome</td>\n",
       "      <td>endereco qualquer</td>\n",
       "      <td>cep</td>\n",
       "      <td>telefone</td>\n",
       "      <td>RJ</td>\n",
       "      <td>10403272</td>\n",
       "      <td>1</td>\n",
       "      <td>399.0</td>\n",
       "      <td>47.88</td>\n",
       "      <td>0</td>\n",
       "      <td>0</td>\n",
       "      <td>399.0</td>\n",
       "      <td>25/07/2002</td>\n",
       "      <td></td>\n",
       "      <td>empresa_transportadora</td>\n",
       "      <td>peso_produto</td>\n",
       "      <td>venc_fatura</td>\n",
       "      <td>valordafatura</td>\n",
       "      <td>Doacao -658c8924 Josias Severino n 99137698 at...</td>\n",
       "    </tr>\n",
       "  </tbody>\n",
       "</table>\n",
       "</div>"
      ],
      "text/plain": [
       "         Destinatario           Endereco  CEP      Fone  Uf Codigo_produto  \\\n",
       "Id                                                                           \n",
       "1522  exemplo de nome  endereco qualquer  cep  telefone  RJ       10403272   \n",
       "\n",
       "     Qtd. Valor unitario Impostos Valor_frete Seguro Valor_total_nota  \\\n",
       "Id                                                                      \n",
       "1522    1          399.0    47.88           0      0            399.0   \n",
       "\n",
       "       Data_nota data_saida           Transportador Peso_transporte  \\\n",
       "Id                                                                    \n",
       "1522  25/07/2002             empresa_transportadora    peso_produto   \n",
       "\n",
       "      Venc_fatura   Valor_fatura  \\\n",
       "Id                                 \n",
       "1522  venc_fatura  valordafatura   \n",
       "\n",
       "                             Informacoes complementares  \n",
       "Id                                                       \n",
       "1522  Doacao -658c8924 Josias Severino n 99137698 at...  "
      ]
     },
     "execution_count": 15,
     "metadata": {},
     "output_type": "execute_result"
    }
   ],
   "source": [
    "df.head()"
   ]
  },
  {
   "cell_type": "code",
   "execution_count": 16,
   "metadata": {},
   "outputs": [
    {
     "data": {
      "text/html": [
       "<script type=\"text/Javascript\">var win = window.open(\"\", \"Title\", \"toolbar=no, location=no, directories=no, status=no, menubar=no, scrollbars=yes, resizable=yes, width=780, height=200, top=\"+(screen.height-400)+\", left=\"+(screen.width-840));win.document.body.innerHTML = '<table border=\"1\" class=\"dataframe\">\\  <thead>\\    <tr style=\"text-align: right;\">\\      <th></th>\\      <th>Destinatario</th>\\      <th>Endereco</th>\\      <th>CEP</th>\\      <th>Fone</th>\\      <th>Uf</th>\\      <th>Codigo_produto</th>\\      <th>Qtd.</th>\\      <th>Valor unitario</th>\\      <th>Impostos</th>\\      <th>Valor_frete</th>\\      <th>Seguro</th>\\      <th>Valor_total_nota</th>\\      <th>Data_nota</th>\\      <th>data_saida</th>\\      <th>Transportador</th>\\      <th>Peso_transporte</th>\\      <th>Venc_fatura</th>\\      <th>Valor_fatura</th>\\      <th>Informacoes complementares</th>\\    </tr>\\    <tr>\\      <th>Id</th>\\      <th></th>\\      <th></th>\\      <th></th>\\      <th></th>\\      <th></th>\\      <th></th>\\      <th></th>\\      <th></th>\\      <th></th>\\      <th></th>\\      <th></th>\\      <th></th>\\      <th></th>\\      <th></th>\\      <th></th>\\      <th></th>\\      <th></th>\\      <th></th>\\      <th></th>\\    </tr>\\  </thead>\\  <tbody>\\    <tr>\\      <th>1522</th>\\      <td>exemplo de nome</td>\\      <td>endereco qualquer</td>\\      <td>cep</td>\\      <td>telefone</td>\\      <td>RJ</td>\\      <td>10403272</td>\\      <td>1</td>\\      <td>399.0</td>\\      <td>47.88</td>\\      <td>0</td>\\      <td>0</td>\\      <td>399.0</td>\\      <td>25/07/2002</td>\\      <td></td>\\      <td>empresa_transportadora</td>\\      <td>peso_produto</td>\\      <td>venc_fatura</td>\\      <td>valordafatura</td>\\      <td>Doacao -658c8924 Josias Severino n 99137698 at. -rj 56450 cs -rj76047</td>\\    </tr>\\  </tbody>\\</table>';</script>"
      ],
      "text/plain": [
       "<IPython.core.display.HTML object>"
      ]
     },
     "execution_count": 16,
     "metadata": {},
     "output_type": "execute_result"
    }
   ],
   "source": [
    "from IPython.display import HTML\n",
    "s  = '<script type=\"text/Javascript\">'\n",
    "s += 'var win = window.open(\"\", \"Title\", \"toolbar=no, location=no, directories=no, status=no, menubar=no, scrollbars=yes, resizable=yes, width=780, height=200, top=\"+(screen.height-400)+\", left=\"+(screen.width-840));'\n",
    "s += 'win.document.body.innerHTML = \\'' + df.to_html().replace(\"\\n\",'\\\\') + '\\';'\n",
    "s += '</script>'\n",
    "\n",
    "# Show in new Window\n",
    "HTML(s)"
   ]
  }
 ],
 "metadata": {
  "kernelspec": {
   "display_name": "Python 3",
   "language": "python",
   "name": "python3"
  },
  "language_info": {
   "codemirror_mode": {
    "name": "ipython",
    "version": 3
   },
   "file_extension": ".py",
   "mimetype": "text/x-python",
   "name": "python",
   "nbconvert_exporter": "python",
   "pygments_lexer": "ipython3",
   "version": "3.7.4"
  }
 },
 "nbformat": 4,
 "nbformat_minor": 2
}
